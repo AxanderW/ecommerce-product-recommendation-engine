{
 "cells": [
  {
   "cell_type": "markdown",
   "metadata": {},
   "source": [
    "### The purpose of this notebook is to load the data via POST requests"
   ]
  },
  {
   "cell_type": "markdown",
   "metadata": {},
   "source": [
    "#### Import depedencies"
   ]
  },
  {
   "cell_type": "code",
   "execution_count": 64,
   "metadata": {},
   "outputs": [],
   "source": [
    "import requests\n",
    "import pandas as pd\n",
    "import numpy as np\n",
    "import datetime\n",
    "import json"
   ]
  },
  {
   "cell_type": "markdown",
   "metadata": {},
   "source": [
    "### Get setup variables"
   ]
  },
  {
   "cell_type": "code",
   "execution_count": 68,
   "metadata": {},
   "outputs": [],
   "source": [
    "with open('config.json') as json_file:\n",
    "    data = json.load(json_file)\n",
    "    BASE_URL  = data['EC2_API_ENDPOINT']"
   ]
  },
  {
   "cell_type": "markdown",
   "metadata": {},
   "source": [
    "#### Load cleaned product data"
   ]
  },
  {
   "cell_type": "code",
   "execution_count": 2,
   "metadata": {},
   "outputs": [],
   "source": [
    "dataFile = '../data/product_data.xlsx'"
   ]
  },
  {
   "cell_type": "code",
   "execution_count": 6,
   "metadata": {},
   "outputs": [],
   "source": [
    "data = pd.read_excel(dataFile, sheet_name = 'all_prods', parse_dates=True)"
   ]
  },
  {
   "cell_type": "markdown",
   "metadata": {},
   "source": [
    "#### View data"
   ]
  },
  {
   "cell_type": "code",
   "execution_count": 7,
   "metadata": {},
   "outputs": [
    {
     "data": {
      "text/html": [
       "<div>\n",
       "<style scoped>\n",
       "    .dataframe tbody tr th:only-of-type {\n",
       "        vertical-align: middle;\n",
       "    }\n",
       "\n",
       "    .dataframe tbody tr th {\n",
       "        vertical-align: top;\n",
       "    }\n",
       "\n",
       "    .dataframe thead th {\n",
       "        text-align: right;\n",
       "    }\n",
       "</style>\n",
       "<table border=\"1\" class=\"dataframe\">\n",
       "  <thead>\n",
       "    <tr style=\"text-align: right;\">\n",
       "      <th></th>\n",
       "      <th>raw_product</th>\n",
       "      <th>brand</th>\n",
       "      <th>category</th>\n",
       "      <th>name</th>\n",
       "      <th>slug</th>\n",
       "      <th>description</th>\n",
       "      <th>color</th>\n",
       "      <th>is available</th>\n",
       "      <th>qty</th>\n",
       "      <th>retail price</th>\n",
       "      <th>sale price</th>\n",
       "      <th>release date</th>\n",
       "    </tr>\n",
       "  </thead>\n",
       "  <tbody>\n",
       "    <tr>\n",
       "      <th>0</th>\n",
       "      <td>Adidas-Yeezy-Boost-350-Low-V2-Beluga</td>\n",
       "      <td>adidas</td>\n",
       "      <td>footwear</td>\n",
       "      <td>adidas yeezy boost 350</td>\n",
       "      <td>adidas-yeezy-boost-350-low-v2-beluga</td>\n",
       "      <td>low, v2, beluga</td>\n",
       "      <td>NaN</td>\n",
       "      <td>1</td>\n",
       "      <td>498</td>\n",
       "      <td>220</td>\n",
       "      <td>1097</td>\n",
       "      <td>2016-09-24</td>\n",
       "    </tr>\n",
       "    <tr>\n",
       "      <th>1</th>\n",
       "      <td>Adidas-Yeezy-Boost-350-V2-Core-Black-Copper</td>\n",
       "      <td>adidas</td>\n",
       "      <td>footwear</td>\n",
       "      <td>adidas yeezy boost 350</td>\n",
       "      <td>adidas-yeezy-boost-350-v2-core-black-copper</td>\n",
       "      <td>v2, core</td>\n",
       "      <td>black,copper</td>\n",
       "      <td>1</td>\n",
       "      <td>225</td>\n",
       "      <td>220</td>\n",
       "      <td>685</td>\n",
       "      <td>2016-11-23</td>\n",
       "    </tr>\n",
       "    <tr>\n",
       "      <th>2</th>\n",
       "      <td>Adidas-Yeezy-Boost-350-V2-Core-Black-Green</td>\n",
       "      <td>adidas</td>\n",
       "      <td>footwear</td>\n",
       "      <td>adidas yeezy boost 350</td>\n",
       "      <td>adidas-yeezy-boost-350-v2-core-black-green</td>\n",
       "      <td>v2, core</td>\n",
       "      <td>black, green</td>\n",
       "      <td>1</td>\n",
       "      <td>196</td>\n",
       "      <td>220</td>\n",
       "      <td>690</td>\n",
       "      <td>2016-11-23</td>\n",
       "    </tr>\n",
       "    <tr>\n",
       "      <th>3</th>\n",
       "      <td>Adidas-Yeezy-Boost-350-V2-Core-Black-Red</td>\n",
       "      <td>adidas</td>\n",
       "      <td>footwear</td>\n",
       "      <td>adidas yeezy boost 350</td>\n",
       "      <td>adidas-yeezy-boost-350-v2-core-black-red</td>\n",
       "      <td>v2, core</td>\n",
       "      <td>black, red</td>\n",
       "      <td>1</td>\n",
       "      <td>302</td>\n",
       "      <td>220</td>\n",
       "      <td>1075</td>\n",
       "      <td>2016-11-23</td>\n",
       "    </tr>\n",
       "    <tr>\n",
       "      <th>4</th>\n",
       "      <td>Adidas-Yeezy-Boost-350-V2-Core-Black-Red-2017</td>\n",
       "      <td>adidas</td>\n",
       "      <td>footwear</td>\n",
       "      <td>adidas yeezy boost 350</td>\n",
       "      <td>adidas-yeezy-boost-350-v2-core-black-red-2017</td>\n",
       "      <td>core, 2017</td>\n",
       "      <td>black,red</td>\n",
       "      <td>1</td>\n",
       "      <td>969</td>\n",
       "      <td>220</td>\n",
       "      <td>828</td>\n",
       "      <td>2017-02-11</td>\n",
       "    </tr>\n",
       "  </tbody>\n",
       "</table>\n",
       "</div>"
      ],
      "text/plain": [
       "                                     raw_product   brand  category  \\\n",
       "0           Adidas-Yeezy-Boost-350-Low-V2-Beluga  adidas  footwear   \n",
       "1    Adidas-Yeezy-Boost-350-V2-Core-Black-Copper  adidas  footwear   \n",
       "2     Adidas-Yeezy-Boost-350-V2-Core-Black-Green  adidas  footwear   \n",
       "3       Adidas-Yeezy-Boost-350-V2-Core-Black-Red  adidas  footwear   \n",
       "4  Adidas-Yeezy-Boost-350-V2-Core-Black-Red-2017  adidas  footwear   \n",
       "\n",
       "                     name                                           slug  \\\n",
       "0  adidas yeezy boost 350           adidas-yeezy-boost-350-low-v2-beluga   \n",
       "1  adidas yeezy boost 350    adidas-yeezy-boost-350-v2-core-black-copper   \n",
       "2  adidas yeezy boost 350     adidas-yeezy-boost-350-v2-core-black-green   \n",
       "3  adidas yeezy boost 350       adidas-yeezy-boost-350-v2-core-black-red   \n",
       "4  adidas yeezy boost 350  adidas-yeezy-boost-350-v2-core-black-red-2017   \n",
       "\n",
       "       description         color  is available  qty  retail price  sale price  \\\n",
       "0  low, v2, beluga           NaN             1  498           220        1097   \n",
       "1         v2, core  black,copper             1  225           220         685   \n",
       "2         v2, core  black, green             1  196           220         690   \n",
       "3         v2, core    black, red             1  302           220        1075   \n",
       "4       core, 2017     black,red             1  969           220         828   \n",
       "\n",
       "  release date  \n",
       "0   2016-09-24  \n",
       "1   2016-11-23  \n",
       "2   2016-11-23  \n",
       "3   2016-11-23  \n",
       "4   2017-02-11  "
      ]
     },
     "execution_count": 7,
     "metadata": {},
     "output_type": "execute_result"
    }
   ],
   "source": [
    "data.head()"
   ]
  },
  {
   "cell_type": "markdown",
   "metadata": {},
   "source": [
    "### Create URL and credentials for REST API"
   ]
  },
  {
   "cell_type": "code",
   "execution_count": 69,
   "metadata": {},
   "outputs": [],
   "source": [
    "base_url = BASE_URL"
   ]
  },
  {
   "cell_type": "markdown",
   "metadata": {},
   "source": [
    "### Step 1: Create new user"
   ]
  },
  {
   "cell_type": "markdown",
   "metadata": {},
   "source": [
    "#### Create Guest user and return the token needed for authentifcation"
   ]
  },
  {
   "cell_type": "code",
   "execution_count": 18,
   "metadata": {},
   "outputs": [],
   "source": [
    "EMAIL = \"guest@awit.com\"\n",
    "NAME = \"Guest user\"\n",
    "PASSWORD = \"bemyguest123\""
   ]
  },
  {
   "cell_type": "code",
   "execution_count": 13,
   "metadata": {},
   "outputs": [],
   "source": [
    "DATA = {\n",
    "    \"email\": \"guest@awit.com\",\n",
    "    \"name\": \"Guest user\",\n",
    "    \"password\": \"bemyguest123\"\n",
    "}"
   ]
  },
  {
   "cell_type": "code",
   "execution_count": 71,
   "metadata": {},
   "outputs": [],
   "source": [
    "query_url = f\"{base_url}profile/\"\n",
    "#print(query_url)"
   ]
  },
  {
   "cell_type": "code",
   "execution_count": 15,
   "metadata": {},
   "outputs": [],
   "source": [
    "response = requests.post(url=query_url, data=DATA).json()"
   ]
  },
  {
   "cell_type": "code",
   "execution_count": 16,
   "metadata": {},
   "outputs": [
    {
     "name": "stdout",
     "output_type": "stream",
     "text": [
      "{'id': 2, 'email': 'guest@awit.com', 'name': 'Guest user'}\n"
     ]
    }
   ],
   "source": [
    "print(response)"
   ]
  },
  {
   "cell_type": "markdown",
   "metadata": {},
   "source": [
    "### Step 2: Login with new user"
   ]
  },
  {
   "cell_type": "code",
   "execution_count": 72,
   "metadata": {},
   "outputs": [],
   "source": [
    "query_url = f\"{base_url}login/\"\n",
    "#print(query_url)"
   ]
  },
  {
   "cell_type": "code",
   "execution_count": 19,
   "metadata": {},
   "outputs": [],
   "source": [
    "DATA = {\n",
    "    'username': EMAIL, \n",
    "    'password': PASSWORD\n",
    "}"
   ]
  },
  {
   "cell_type": "code",
   "execution_count": 20,
   "metadata": {},
   "outputs": [],
   "source": [
    "response = requests.post(url=query_url, data=DATA).json()"
   ]
  },
  {
   "cell_type": "code",
   "execution_count": null,
   "metadata": {},
   "outputs": [],
   "source": [
    "MY_TOKEN = response['token']"
   ]
  },
  {
   "cell_type": "markdown",
   "metadata": {},
   "source": [
    "### Step 3: Set header dict for posting data"
   ]
  },
  {
   "cell_type": "code",
   "execution_count": 22,
   "metadata": {},
   "outputs": [],
   "source": [
    "HEADER = {'Authorization':f'Token {MY_TOKEN}'}"
   ]
  },
  {
   "cell_type": "markdown",
   "metadata": {},
   "source": [
    "## Section to Load Data"
   ]
  },
  {
   "cell_type": "markdown",
   "metadata": {},
   "source": [
    "### Step 1: Load brands"
   ]
  },
  {
   "cell_type": "code",
   "execution_count": 24,
   "metadata": {},
   "outputs": [
    {
     "data": {
      "text/plain": [
       "array(['adidas', 'nike', 'jordan'], dtype=object)"
      ]
     },
     "execution_count": 24,
     "metadata": {},
     "output_type": "execute_result"
    }
   ],
   "source": [
    "ALL_BRANDS = data['brand'].unique()\n",
    "ALL_BRANDS"
   ]
  },
  {
   "cell_type": "code",
   "execution_count": 74,
   "metadata": {},
   "outputs": [],
   "source": [
    "query_url = f\"{base_url}brand/\"\n",
    "#print(query_url)"
   ]
  },
  {
   "cell_type": "code",
   "execution_count": 29,
   "metadata": {},
   "outputs": [
    {
     "name": "stdout",
     "output_type": "stream",
     "text": [
      "{'id': 1, 'name': 'adidas', 'is_active': True}\n",
      "{'id': 2, 'name': 'nike', 'is_active': True}\n",
      "{'id': 3, 'name': 'jordan', 'is_active': True}\n"
     ]
    }
   ],
   "source": [
    "for brand in ALL_BRANDS:\n",
    "    load_data = {'name': brand, 'is_active': True}\n",
    "    response = requests.post(url=query_url, headers=HEADER, data=load_data).json()\n",
    "    print(response)"
   ]
  },
  {
   "cell_type": "markdown",
   "metadata": {},
   "source": [
    "## View all loaded brands"
   ]
  },
  {
   "cell_type": "code",
   "execution_count": 31,
   "metadata": {},
   "outputs": [
    {
     "name": "stdout",
     "output_type": "stream",
     "text": [
      "[{'id': 1, 'name': 'adidas', 'is_active': True}, {'id': 2, 'name': 'nike', 'is_active': True}, {'id': 3, 'name': 'jordan', 'is_active': True}]\n"
     ]
    }
   ],
   "source": [
    "db_brands = requests.get(url=query_url, headers=HEADER).json()\n",
    "print(db_brands)"
   ]
  },
  {
   "cell_type": "markdown",
   "metadata": {},
   "source": [
    "### Step 2: Load Category"
   ]
  },
  {
   "cell_type": "code",
   "execution_count": 32,
   "metadata": {},
   "outputs": [
    {
     "data": {
      "text/plain": [
       "array(['footwear'], dtype=object)"
      ]
     },
     "execution_count": 32,
     "metadata": {},
     "output_type": "execute_result"
    }
   ],
   "source": [
    "ALL_CATS = data['category'].unique()\n",
    "ALL_CATS"
   ]
  },
  {
   "cell_type": "code",
   "execution_count": 75,
   "metadata": {},
   "outputs": [],
   "source": [
    "query_url = f\"{base_url}category/\"\n",
    "#print(query_url)"
   ]
  },
  {
   "cell_type": "code",
   "execution_count": 34,
   "metadata": {},
   "outputs": [
    {
     "name": "stdout",
     "output_type": "stream",
     "text": [
      "{'id': 1, 'name': 'footwear', 'is_active': True}\n"
     ]
    }
   ],
   "source": [
    "for cat in ALL_CATS:\n",
    "    load_data = {'name': cat, 'is_active': True}\n",
    "    response = requests.post(url=query_url, headers=HEADER, data=load_data).json()\n",
    "    print(response)"
   ]
  },
  {
   "cell_type": "markdown",
   "metadata": {},
   "source": [
    "## View all loaded categories"
   ]
  },
  {
   "cell_type": "code",
   "execution_count": 35,
   "metadata": {},
   "outputs": [
    {
     "name": "stdout",
     "output_type": "stream",
     "text": [
      "[{'id': 1, 'name': 'footwear', 'is_active': True}]\n"
     ]
    }
   ],
   "source": [
    "db_cats = requests.get(url=query_url, headers=HEADER).json()\n",
    "print(db_cats)"
   ]
  },
  {
   "cell_type": "markdown",
   "metadata": {},
   "source": [
    "### Step 3: Load Product"
   ]
  },
  {
   "cell_type": "code",
   "execution_count": 76,
   "metadata": {},
   "outputs": [],
   "source": [
    "query_url = f\"{base_url}product/\"\n",
    "#print(query_url)"
   ]
  },
  {
   "cell_type": "code",
   "execution_count": 39,
   "metadata": {},
   "outputs": [
    {
     "data": {
      "text/plain": [
       "['brand',\n",
       " 'category',\n",
       " 'slug',\n",
       " 'raw_product',\n",
       " 'retail price',\n",
       " 'sale price',\n",
       " 'release date',\n",
       " 'qty',\n",
       " 'is available']"
      ]
     },
     "execution_count": 39,
     "metadata": {},
     "output_type": "execute_result"
    }
   ],
   "source": [
    "cols_imp = ['brand','category','slug',\n",
    "            'raw_product','retail price','sale price',\n",
    "            'release date','qty','is available',\n",
    "                    ]\n",
    "cols_imp"
   ]
  },
  {
   "cell_type": "code",
   "execution_count": 40,
   "metadata": {},
   "outputs": [
    {
     "data": {
      "text/html": [
       "<div>\n",
       "<style scoped>\n",
       "    .dataframe tbody tr th:only-of-type {\n",
       "        vertical-align: middle;\n",
       "    }\n",
       "\n",
       "    .dataframe tbody tr th {\n",
       "        vertical-align: top;\n",
       "    }\n",
       "\n",
       "    .dataframe thead th {\n",
       "        text-align: right;\n",
       "    }\n",
       "</style>\n",
       "<table border=\"1\" class=\"dataframe\">\n",
       "  <thead>\n",
       "    <tr style=\"text-align: right;\">\n",
       "      <th></th>\n",
       "      <th>brand</th>\n",
       "      <th>category</th>\n",
       "      <th>slug</th>\n",
       "      <th>raw_product</th>\n",
       "      <th>retail price</th>\n",
       "      <th>sale price</th>\n",
       "      <th>release date</th>\n",
       "      <th>qty</th>\n",
       "      <th>is available</th>\n",
       "    </tr>\n",
       "  </thead>\n",
       "  <tbody>\n",
       "    <tr>\n",
       "      <th>0</th>\n",
       "      <td>adidas</td>\n",
       "      <td>footwear</td>\n",
       "      <td>adidas-yeezy-boost-350-low-v2-beluga</td>\n",
       "      <td>Adidas-Yeezy-Boost-350-Low-V2-Beluga</td>\n",
       "      <td>220</td>\n",
       "      <td>1097</td>\n",
       "      <td>2016-09-24</td>\n",
       "      <td>498</td>\n",
       "      <td>1</td>\n",
       "    </tr>\n",
       "    <tr>\n",
       "      <th>1</th>\n",
       "      <td>adidas</td>\n",
       "      <td>footwear</td>\n",
       "      <td>adidas-yeezy-boost-350-v2-core-black-copper</td>\n",
       "      <td>Adidas-Yeezy-Boost-350-V2-Core-Black-Copper</td>\n",
       "      <td>220</td>\n",
       "      <td>685</td>\n",
       "      <td>2016-11-23</td>\n",
       "      <td>225</td>\n",
       "      <td>1</td>\n",
       "    </tr>\n",
       "    <tr>\n",
       "      <th>2</th>\n",
       "      <td>adidas</td>\n",
       "      <td>footwear</td>\n",
       "      <td>adidas-yeezy-boost-350-v2-core-black-green</td>\n",
       "      <td>Adidas-Yeezy-Boost-350-V2-Core-Black-Green</td>\n",
       "      <td>220</td>\n",
       "      <td>690</td>\n",
       "      <td>2016-11-23</td>\n",
       "      <td>196</td>\n",
       "      <td>1</td>\n",
       "    </tr>\n",
       "  </tbody>\n",
       "</table>\n",
       "</div>"
      ],
      "text/plain": [
       "    brand  category                                         slug  \\\n",
       "0  adidas  footwear         adidas-yeezy-boost-350-low-v2-beluga   \n",
       "1  adidas  footwear  adidas-yeezy-boost-350-v2-core-black-copper   \n",
       "2  adidas  footwear   adidas-yeezy-boost-350-v2-core-black-green   \n",
       "\n",
       "                                   raw_product  retail price  sale price  \\\n",
       "0         Adidas-Yeezy-Boost-350-Low-V2-Beluga           220        1097   \n",
       "1  Adidas-Yeezy-Boost-350-V2-Core-Black-Copper           220         685   \n",
       "2   Adidas-Yeezy-Boost-350-V2-Core-Black-Green           220         690   \n",
       "\n",
       "  release date  qty  is available  \n",
       "0   2016-09-24  498             1  \n",
       "1   2016-11-23  225             1  \n",
       "2   2016-11-23  196             1  "
      ]
     },
     "execution_count": 40,
     "metadata": {},
     "output_type": "execute_result"
    }
   ],
   "source": [
    "db_load_data = data[cols_imp]\n",
    "db_load_data.head(3)"
   ]
  },
  {
   "cell_type": "code",
   "execution_count": 51,
   "metadata": {},
   "outputs": [
    {
     "data": {
      "text/plain": [
       "brand                   object\n",
       "category                object\n",
       "slug                    object\n",
       "raw_product             object\n",
       "retail price             int64\n",
       "sale price               int64\n",
       "release date    datetime64[ns]\n",
       "qty                      int64\n",
       "is available             int64\n",
       "dtype: object"
      ]
     },
     "execution_count": 51,
     "metadata": {},
     "output_type": "execute_result"
    }
   ],
   "source": [
    "db_load_data.dtypes"
   ]
  },
  {
   "cell_type": "code",
   "execution_count": 58,
   "metadata": {},
   "outputs": [
    {
     "name": "stderr",
     "output_type": "stream",
     "text": [
      "<ipython-input-58-b70b1927ad8a>:1: SettingWithCopyWarning: \n",
      "A value is trying to be set on a copy of a slice from a DataFrame.\n",
      "Try using .loc[row_indexer,col_indexer] = value instead\n",
      "\n",
      "See the caveats in the documentation: https://pandas.pydata.org/pandas-docs/stable/user_guide/indexing.html#returning-a-view-versus-a-copy\n",
      "  db_load_data['updated_release_date_format'] = db_load_data['release date'].dt.strftime('%Y-%m-%d')\n"
     ]
    },
    {
     "data": {
      "text/html": [
       "<div>\n",
       "<style scoped>\n",
       "    .dataframe tbody tr th:only-of-type {\n",
       "        vertical-align: middle;\n",
       "    }\n",
       "\n",
       "    .dataframe tbody tr th {\n",
       "        vertical-align: top;\n",
       "    }\n",
       "\n",
       "    .dataframe thead th {\n",
       "        text-align: right;\n",
       "    }\n",
       "</style>\n",
       "<table border=\"1\" class=\"dataframe\">\n",
       "  <thead>\n",
       "    <tr style=\"text-align: right;\">\n",
       "      <th></th>\n",
       "      <th>brand</th>\n",
       "      <th>category</th>\n",
       "      <th>slug</th>\n",
       "      <th>raw_product</th>\n",
       "      <th>retail price</th>\n",
       "      <th>sale price</th>\n",
       "      <th>release date</th>\n",
       "      <th>qty</th>\n",
       "      <th>is available</th>\n",
       "      <th>updated_release_date_format</th>\n",
       "    </tr>\n",
       "  </thead>\n",
       "  <tbody>\n",
       "    <tr>\n",
       "      <th>0</th>\n",
       "      <td>adidas</td>\n",
       "      <td>footwear</td>\n",
       "      <td>adidas-yeezy-boost-350-low-v2-beluga</td>\n",
       "      <td>Adidas-Yeezy-Boost-350-Low-V2-Beluga</td>\n",
       "      <td>220</td>\n",
       "      <td>1097</td>\n",
       "      <td>2016-09-24</td>\n",
       "      <td>498</td>\n",
       "      <td>1</td>\n",
       "      <td>2016-09-24</td>\n",
       "    </tr>\n",
       "    <tr>\n",
       "      <th>1</th>\n",
       "      <td>adidas</td>\n",
       "      <td>footwear</td>\n",
       "      <td>adidas-yeezy-boost-350-v2-core-black-copper</td>\n",
       "      <td>Adidas-Yeezy-Boost-350-V2-Core-Black-Copper</td>\n",
       "      <td>220</td>\n",
       "      <td>685</td>\n",
       "      <td>2016-11-23</td>\n",
       "      <td>225</td>\n",
       "      <td>1</td>\n",
       "      <td>2016-11-23</td>\n",
       "    </tr>\n",
       "    <tr>\n",
       "      <th>2</th>\n",
       "      <td>adidas</td>\n",
       "      <td>footwear</td>\n",
       "      <td>adidas-yeezy-boost-350-v2-core-black-green</td>\n",
       "      <td>Adidas-Yeezy-Boost-350-V2-Core-Black-Green</td>\n",
       "      <td>220</td>\n",
       "      <td>690</td>\n",
       "      <td>2016-11-23</td>\n",
       "      <td>196</td>\n",
       "      <td>1</td>\n",
       "      <td>2016-11-23</td>\n",
       "    </tr>\n",
       "  </tbody>\n",
       "</table>\n",
       "</div>"
      ],
      "text/plain": [
       "    brand  category                                         slug  \\\n",
       "0  adidas  footwear         adidas-yeezy-boost-350-low-v2-beluga   \n",
       "1  adidas  footwear  adidas-yeezy-boost-350-v2-core-black-copper   \n",
       "2  adidas  footwear   adidas-yeezy-boost-350-v2-core-black-green   \n",
       "\n",
       "                                   raw_product  retail price  sale price  \\\n",
       "0         Adidas-Yeezy-Boost-350-Low-V2-Beluga           220        1097   \n",
       "1  Adidas-Yeezy-Boost-350-V2-Core-Black-Copper           220         685   \n",
       "2   Adidas-Yeezy-Boost-350-V2-Core-Black-Green           220         690   \n",
       "\n",
       "  release date  qty  is available updated_release_date_format  \n",
       "0   2016-09-24  498             1                  2016-09-24  \n",
       "1   2016-11-23  225             1                  2016-11-23  \n",
       "2   2016-11-23  196             1                  2016-11-23  "
      ]
     },
     "execution_count": 58,
     "metadata": {},
     "output_type": "execute_result"
    }
   ],
   "source": [
    "db_load_data['updated_release_date_format'] = db_load_data['release date'].dt.strftime('%Y-%m-%d')\n",
    "db_load_data.head(3)"
   ]
  },
  {
   "cell_type": "code",
   "execution_count": 59,
   "metadata": {},
   "outputs": [
    {
     "data": {
      "text/plain": [
       "brand                                  object\n",
       "category                               object\n",
       "slug                                   object\n",
       "raw_product                            object\n",
       "retail price                            int64\n",
       "sale price                              int64\n",
       "release date                   datetime64[ns]\n",
       "qty                                     int64\n",
       "is available                            int64\n",
       "updated_release_date_format            object\n",
       "dtype: object"
      ]
     },
     "execution_count": 59,
     "metadata": {},
     "output_type": "execute_result"
    }
   ],
   "source": [
    "db_load_data.dtypes"
   ]
  },
  {
   "cell_type": "code",
   "execution_count": 62,
   "metadata": {},
   "outputs": [],
   "source": [
    "for index,row in db_load_data.iterrows():\n",
    "    name = row['raw_product'].replace(\"-\",\" \").lower().strip()\n",
    "    brand_raw = row['brand']\n",
    "    category = 1\n",
    "    slug = row['slug']\n",
    "    retail_price = row['retail price']\n",
    "    sale_price = row['sale price']\n",
    "    qty = row['qty']\n",
    "    release_date = row['updated_release_date_format']\n",
    "    \n",
    "    \n",
    "    if brand_raw == 'adidas':\n",
    "        brand_id = 1\n",
    "    elif brand_raw == 'nike':\n",
    "        brand_id = 2\n",
    "    elif brand_raw == 'jordan':\n",
    "        brand_id = 3\n",
    "        \n",
    "    load_input = {\n",
    "        \"name\": name,\n",
    "        \"slug\": slug,\n",
    "        \"category\":category,\n",
    "        \"brand\":brand_id ,\n",
    "        \"retail_price\": retail_price,\n",
    "        \"sale_price\": sale_price,\n",
    "        \"qty\": qty,\n",
    "        \"release_date\": release_date,\n",
    "        \"is_available\": True\n",
    "    }\n",
    "    #print(load_input)\n",
    "    response = requests.post(url=query_url, headers=HEADER, data=load_input).json()\n",
    "    print(response)"
   ]
  },
  {
   "cell_type": "markdown",
   "metadata": {},
   "source": [
    "## View all loaded products"
   ]
  },
  {
   "cell_type": "code",
   "execution_count": 63,
   "metadata": {},
   "outputs": [
    {
     "name": "stdout",
     "output_type": "stream",
     "text": [
      "[{'id': 1, 'name': 'adidas yeezy boost 350 low v2 beluga', 'slug': 'adidas-yeezy-boost-350-low-v2-beluga', 'category': 1, 'brand': 1, 'retail_price': '220.00', 'sale_price': '1097.00', 'qty': 498, 'release_date': '2016-09-24', 'is_available': True}, {'id': 2, 'name': 'adidas yeezy boost 350 v2 core black copper', 'slug': 'adidas-yeezy-boost-350-v2-core-black-copper', 'category': 1, 'brand': 1, 'retail_price': '220.00', 'sale_price': '685.00', 'qty': 225, 'release_date': '2016-11-23', 'is_available': True}, {'id': 3, 'name': 'adidas yeezy boost 350 v2 core black green', 'slug': 'adidas-yeezy-boost-350-v2-core-black-green', 'category': 1, 'brand': 1, 'retail_price': '220.00', 'sale_price': '690.00', 'qty': 196, 'release_date': '2016-11-23', 'is_available': True}, {'id': 4, 'name': 'adidas yeezy boost 350 v2 core black red', 'slug': 'adidas-yeezy-boost-350-v2-core-black-red', 'category': 1, 'brand': 1, 'retail_price': '220.00', 'sale_price': '1075.00', 'qty': 302, 'release_date': '2016-11-23', 'is_available': True}, {'id': 5, 'name': 'adidas yeezy boost 350 v2 core black red 2017', 'slug': 'adidas-yeezy-boost-350-v2-core-black-red-2017', 'category': 1, 'brand': 1, 'retail_price': '220.00', 'sale_price': '828.00', 'qty': 969, 'release_date': '2017-02-11', 'is_available': True}, {'id': 6, 'name': 'adidas yeezy boost 350 v2 core black white', 'slug': 'adidas-yeezy-boost-350-v2-core-black-white', 'category': 1, 'brand': 1, 'retail_price': '220.00', 'sale_price': '784.00', 'qty': 621, 'release_date': '2016-12-17', 'is_available': True}, {'id': 7, 'name': 'adidas yeezy boost 350 v2 cream white', 'slug': 'adidas-yeezy-boost-350-v2-cream-white', 'category': 1, 'brand': 1, 'retail_price': '220.00', 'sale_price': '460.00', 'qty': 9097, 'release_date': '2017-04-29', 'is_available': True}, {'id': 8, 'name': 'adidas yeezy boost 350 v2 zebra', 'slug': 'adidas-yeezy-boost-350-v2-zebra', 'category': 1, 'brand': 1, 'retail_price': '220.00', 'sale_price': '570.00', 'qty': 10110, 'release_date': '2017-02-25', 'is_available': True}, {'id': 9, 'name': 'adidas yeezy boost 350 low moonrock', 'slug': 'adidas-yeezy-boost-350-low-moonrock', 'category': 1, 'brand': 1, 'retail_price': '200.00', 'sale_price': '1230.00', 'qty': 100, 'release_date': '2015-11-14', 'is_available': True}, {'id': 10, 'name': 'adidas yeezy boost 350 low pirate black 2016', 'slug': 'adidas-yeezy-boost-350-low-pirate-black-2016', 'category': 1, 'brand': 1, 'retail_price': '200.00', 'sale_price': '1100.00', 'qty': 122, 'release_date': '2016-02-19', 'is_available': True}, {'id': 11, 'name': 'adidas yeezy boost 350 low oxford tan', 'slug': 'adidas-yeezy-boost-350-low-oxford-tan', 'category': 1, 'brand': 1, 'retail_price': '200.00', 'sale_price': '1101.00', 'qty': 70, 'release_date': '2015-12-29', 'is_available': True}, {'id': 12, 'name': 'adidas yeezy boost 350 low turtledove', 'slug': 'adidas-yeezy-boost-350-low-turtledove', 'category': 1, 'brand': 1, 'retail_price': '200.00', 'sale_price': '2300.00', 'qty': 68, 'release_date': '2015-06-27', 'is_available': True}, {'id': 13, 'name': 'adidas yeezy boost 350 low pirate black 2015', 'slug': 'adidas-yeezy-boost-350-low-pirate-black-2015', 'category': 1, 'brand': 1, 'retail_price': '200.00', 'sale_price': '1150.00', 'qty': 95, 'release_date': '2015-08-22', 'is_available': True}, {'id': 14, 'name': 'adidas yeezy boost 350 v2 semi frozen yellow', 'slug': 'adidas-yeezy-boost-350-v2-semi-frozen-yellow', 'category': 1, 'brand': 1, 'retail_price': '220.00', 'sale_price': '1825.00', 'qty': 4854, 'release_date': '2017-11-18', 'is_available': True}, {'id': 15, 'name': 'adidas yeezy boost 350 v2 beluga 2pt0', 'slug': 'adidas-yeezy-boost-350-v2-beluga-2pt0', 'category': 1, 'brand': 1, 'retail_price': '220.00', 'sale_price': '600.00', 'qty': 10395, 'release_date': '2017-11-25', 'is_available': True}, {'id': 16, 'name': 'adidas yeezy boost 350 v2 blue tint', 'slug': 'adidas-yeezy-boost-350-v2-blue-tint', 'category': 1, 'brand': 1, 'retail_price': '220.00', 'sale_price': '800.00', 'qty': 9297, 'release_date': '2017-12-16', 'is_available': True}, {'id': 17, 'name': 'adidas yeezy boost 350 v2 butter', 'slug': 'adidas-yeezy-boost-350-v2-butter', 'category': 1, 'brand': 1, 'retail_price': '220.00', 'sale_price': '600.00', 'qty': 11423, 'release_date': '2018-06-30', 'is_available': True}, {'id': 18, 'name': 'adidas yeezy boost 350 v2 sesame', 'slug': 'adidas-yeezy-boost-350-v2-sesame', 'category': 1, 'brand': 1, 'retail_price': '220.00', 'sale_price': '380.00', 'qty': 5553, 'release_date': '2018-11-23', 'is_available': True}, {'id': 19, 'name': 'adidas yeezy boost 350 v2 static', 'slug': 'adidas-yeezy-boost-350-v2-static', 'category': 1, 'brand': 1, 'retail_price': '220.00', 'sale_price': '775.00', 'qty': 4983, 'release_date': '2018-12-27', 'is_available': True}, {'id': 20, 'name': 'adidas yeezy boost 350 v2 static reflective', 'slug': 'adidas-yeezy-boost-350-v2-static-reflective', 'category': 1, 'brand': 1, 'retail_price': '220.00', 'sale_price': '2000.00', 'qty': 3184, 'release_date': '2018-12-26', 'is_available': True}, {'id': 21, 'name': 'nike air max 90 off white', 'slug': 'nike-air-max-90-off-white', 'category': 1, 'brand': 2, 'retail_price': '160.00', 'sale_price': '1600.00', 'qty': 627, 'release_date': '2017-09-09', 'is_available': True}, {'id': 22, 'name': 'nike air presto off white', 'slug': 'nike-air-presto-off-white', 'category': 1, 'brand': 2, 'retail_price': '160.00', 'sale_price': '1344.00', 'qty': 596, 'release_date': '2017-09-09', 'is_available': True}, {'id': 23, 'name': 'nike air vapormax off white', 'slug': 'nike-air-vapormax-off-white', 'category': 1, 'brand': 2, 'retail_price': '250.00', 'sale_price': '1800.00', 'qty': 525, 'release_date': '2017-09-09', 'is_available': True}, {'id': 24, 'name': 'nike blazer mid off white', 'slug': 'nike-blazer-mid-off-white', 'category': 1, 'brand': 2, 'retail_price': '130.00', 'sale_price': '720.00', 'qty': 501, 'release_date': '2017-09-09', 'is_available': True}, {'id': 25, 'name': 'nike air force 1 low off white', 'slug': 'nike-air-force-1-low-off-white', 'category': 1, 'brand': 2, 'retail_price': '170.00', 'sale_price': '1000.00', 'qty': 476, 'release_date': '2017-11-01', 'is_available': True}, {'id': 26, 'name': 'nike air max 97 off white', 'slug': 'nike-air-max-97-off-white', 'category': 1, 'brand': 2, 'retail_price': '190.00', 'sale_price': '700.00', 'qty': 544, 'release_date': '2017-11-01', 'is_available': True}, {'id': 27, 'name': 'nike air force 1 low virgil abloh off white af100', 'slug': 'nike-air-force-1-low-virgil-abloh-off-white-af100', 'category': 1, 'brand': 2, 'retail_price': '150.00', 'sale_price': '850.00', 'qty': 31, 'release_date': '2017-11-04', 'is_available': True}, {'id': 28, 'name': 'nike react hyperdunk 2017 flyknit off white', 'slug': 'nike-react-hyperdunk-2017-flyknit-off-white', 'category': 1, 'brand': 2, 'retail_price': '200.00', 'sale_price': '900.00', 'qty': 484, 'release_date': '2017-11-01', 'is_available': True}, {'id': 29, 'name': 'nike zoom fly off white', 'slug': 'nike-zoom-fly-off-white', 'category': 1, 'brand': 2, 'retail_price': '170.00', 'sale_price': '1700.00', 'qty': 435, 'release_date': '2017-11-01', 'is_available': True}, {'id': 30, 'name': 'nike air vapormax off white 2018', 'slug': 'nike-air-vapormax-off-white-2018', 'category': 1, 'brand': 2, 'retail_price': '250.00', 'sale_price': '825.00', 'qty': 1591, 'release_date': '2018-04-14', 'is_available': True}, {'id': 31, 'name': 'nike air vapormax off white black', 'slug': 'nike-air-vapormax-off-white-black', 'category': 1, 'brand': 2, 'retail_price': '250.00', 'sale_price': '800.00', 'qty': 1313, 'release_date': '2018-03-30', 'is_available': True}, {'id': 32, 'name': 'nike air presto off white black 2018', 'slug': 'nike-air-presto-off-white-black-2018', 'category': 1, 'brand': 2, 'retail_price': '160.00', 'sale_price': '1500.00', 'qty': 1884, 'release_date': '2018-07-27', 'is_available': True}, {'id': 33, 'name': 'nike air presto off white white 2018', 'slug': 'nike-air-presto-off-white-white-2018', 'category': 1, 'brand': 2, 'retail_price': '160.00', 'sale_price': '1500.00', 'qty': 1883, 'release_date': '2018-08-03', 'is_available': True}, {'id': 34, 'name': 'nike zoom fly mercurial off white black', 'slug': 'nike-zoom-fly-mercurial-off-white-black', 'category': 1, 'brand': 2, 'retail_price': '200.00', 'sale_price': '600.00', 'qty': 645, 'release_date': '2018-06-14', 'is_available': True}, {'id': 35, 'name': 'nike zoom fly mercurial off white total orange', 'slug': 'nike-zoom-fly-mercurial-off-white-total-orange', 'category': 1, 'brand': 2, 'retail_price': '200.00', 'sale_price': '500.00', 'qty': 656, 'release_date': '2018-06-14', 'is_available': True}, {'id': 36, 'name': 'nike air max 97 off white elemental rose queen', 'slug': 'nike-air-max-97-off-white-elemental-rose-queen', 'category': 1, 'brand': 2, 'retail_price': '190.00', 'sale_price': '750.00', 'qty': 216, 'release_date': '2018-08-25', 'is_available': True}, {'id': 37, 'name': 'nike blazer mid off white all hallows eve', 'slug': 'nike-blazer-mid-off-white-all-hallows-eve', 'category': 1, 'brand': 2, 'retail_price': '130.00', 'sale_price': '925.00', 'qty': 1435, 'release_date': '2018-10-03', 'is_available': True}, {'id': 38, 'name': 'nike blazer mid off white grim reaper', 'slug': 'nike-blazer-mid-off-white-grim-reaper', 'category': 1, 'brand': 2, 'retail_price': '130.00', 'sale_price': '908.00', 'qty': 1398, 'release_date': '2018-10-03', 'is_available': True}, {'id': 39, 'name': 'nike blazer mid off white wolf grey', 'slug': 'nike-blazer-mid-off-white-wolf-grey', 'category': 1, 'brand': 2, 'retail_price': '130.00', 'sale_price': '1150.00', 'qty': 288, 'release_date': '2018-08-25', 'is_available': True}, {'id': 40, 'name': 'nike air max 97 off white menta', 'slug': 'nike-air-max-97-off-white-menta', 'category': 1, 'brand': 2, 'retail_price': '190.00', 'sale_price': '925.00', 'qty': 343, 'release_date': '2018-10-18', 'is_available': True}, {'id': 41, 'name': 'nike air max 97 off white black', 'slug': 'nike-air-max-97-off-white-black', 'category': 1, 'brand': 2, 'retail_price': '190.00', 'sale_price': '1230.00', 'qty': 289, 'release_date': '2018-10-18', 'is_available': True}, {'id': 42, 'name': 'nike zoom fly off white black silver', 'slug': 'nike-zoom-fly-off-white-black-silver', 'category': 1, 'brand': 2, 'retail_price': '170.00', 'sale_price': '490.00', 'qty': 1222, 'release_date': '2018-10-13', 'is_available': True}, {'id': 43, 'name': 'nike zoom fly off white pink', 'slug': 'nike-zoom-fly-off-white-pink', 'category': 1, 'brand': 2, 'retail_price': '170.00', 'sale_price': '480.00', 'qty': 1359, 'release_date': '2018-11-28', 'is_available': True}, {'id': 44, 'name': 'nike air force 1 low off white volt', 'slug': 'nike-air-force-1-low-off-white-volt', 'category': 1, 'brand': 2, 'retail_price': '170.00', 'sale_price': '950.00', 'qty': 1019, 'release_date': '2018-12-19', 'is_available': True}, {'id': 45, 'name': 'nike air force 1 low off white black white', 'slug': 'nike-air-force-1-low-off-white-black-white', 'category': 1, 'brand': 2, 'retail_price': '170.00', 'sale_price': '550.00', 'qty': 960, 'release_date': '2018-12-19', 'is_available': True}, {'id': 46, 'name': 'nike air max 90 off white black', 'slug': 'nike-air-max-90-off-white-black', 'category': 1, 'brand': 2, 'retail_price': '160.00', 'sale_price': '751.00', 'qty': 722, 'release_date': '2019-02-07', 'is_available': True}, {'id': 47, 'name': 'nike air max 90 off white desert ore', 'slug': 'nike-air-max-90-off-white-desert-ore', 'category': 1, 'brand': 2, 'retail_price': '160.00', 'sale_price': '550.00', 'qty': 649, 'release_date': '2019-02-07', 'is_available': True}, {'id': 48, 'name': 'air jordan 1 retro high off white chicago', 'slug': 'air-jordan-1-retro-high-off-white-chicago', 'category': 1, 'brand': 3, 'retail_price': '190.00', 'sale_price': '2450.00', 'qty': 755, 'release_date': '2017-09-09', 'is_available': True}, {'id': 49, 'name': 'air jordan 1 retro high off white white', 'slug': 'air-jordan-1-retro-high-off-white-white', 'category': 1, 'brand': 3, 'retail_price': '190.00', 'sale_price': '2180.00', 'qty': 313, 'release_date': '2018-03-03', 'is_available': True}, {'id': 50, 'name': 'air jordan 1 retro high off white university blue', 'slug': 'air-jordan-1-retro-high-off-white-university-blue', 'category': 1, 'brand': 3, 'retail_price': '190.00', 'sale_price': '3680.00', 'qty': 4635, 'release_date': '2018-06-23', 'is_available': True}]\n"
     ]
    }
   ],
   "source": [
    "db_prods = requests.get(url=query_url, headers=HEADER).json()\n",
    "print(db_prods)"
   ]
  },
  {
   "cell_type": "code",
   "execution_count": null,
   "metadata": {},
   "outputs": [],
   "source": []
  }
 ],
 "metadata": {
  "kernelspec": {
   "display_name": "Python 3",
   "language": "python",
   "name": "python3"
  },
  "language_info": {
   "codemirror_mode": {
    "name": "ipython",
    "version": 3
   },
   "file_extension": ".py",
   "mimetype": "text/x-python",
   "name": "python",
   "nbconvert_exporter": "python",
   "pygments_lexer": "ipython3",
   "version": "3.8.3"
  }
 },
 "nbformat": 4,
 "nbformat_minor": 4
}
