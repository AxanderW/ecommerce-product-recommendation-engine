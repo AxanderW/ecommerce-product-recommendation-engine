{
 "cells": [
  {
   "cell_type": "markdown",
   "metadata": {},
   "source": [
    "#### This notebook will make product recommendations"
   ]
  },
  {
   "cell_type": "markdown",
   "metadata": {},
   "source": [
    "#### Import depdencies"
   ]
  },
  {
   "cell_type": "code",
   "execution_count": 9,
   "metadata": {},
   "outputs": [],
   "source": [
    "import pickle\n",
    "import requests\n",
    "import json"
   ]
  },
  {
   "cell_type": "markdown",
   "metadata": {},
   "source": [
    "#### Load recommendation model"
   ]
  },
  {
   "cell_type": "code",
   "execution_count": 2,
   "metadata": {},
   "outputs": [],
   "source": [
    "recommendation_model = pickle.load(open('simscores.pickle', 'rb'))"
   ]
  },
  {
   "cell_type": "markdown",
   "metadata": {},
   "source": [
    "### Setup REST API variables"
   ]
  },
  {
   "cell_type": "code",
   "execution_count": 10,
   "metadata": {},
   "outputs": [],
   "source": [
    "with open('config.json') as json_file:\n",
    "    data = json.load(json_file)\n",
    "    BASE_URL  = data['EC2_API_ENDPOINT']\n",
    "    MY_TOKEN = data['GUEST_TOKEN']"
   ]
  },
  {
   "cell_type": "code",
   "execution_count": 11,
   "metadata": {},
   "outputs": [],
   "source": [
    "base_url = BASE_URL\n",
    "HEADER = {'Authorization':f'Token {MY_TOKEN}'}"
   ]
  },
  {
   "cell_type": "markdown",
   "metadata": {},
   "source": [
    "#### Create function to make recommendations"
   ]
  },
  {
   "cell_type": "code",
   "execution_count": 12,
   "metadata": {},
   "outputs": [],
   "source": [
    "def make_recommendation(prod_id):\n",
    "    recommended_proucts = []\n",
    "    try:\n",
    "        scores = list(enumerate(recommendation_model[prod_id-1]))\n",
    "        scored_scores = sorted(scores, key = lambda x:x[1], reverse=True)\n",
    "        sorted_scores = scored_scores[1:]\n",
    "\n",
    "        for i in range(3):\n",
    "            recommend_prod_id = sorted_scores[i][0]\n",
    "            recommend_prod_id +=1\n",
    "\n",
    "            query_url = f'{base_url}product/{recommend_prod_id}' \n",
    "            recommend_product = requests.get(url=query_url, headers=HEADER).json()\n",
    "\n",
    "            recommended_proucts.append(recommend_product)\n",
    "    except:\n",
    "        recommended_proucts = []\n",
    "    return recommended_proucts\n"
   ]
  },
  {
   "cell_type": "markdown",
   "metadata": {},
   "source": [
    "### Call function to make recommendations"
   ]
  },
  {
   "cell_type": "code",
   "execution_count": 13,
   "metadata": {},
   "outputs": [],
   "source": [
    "new_product = 'nike-blazer-mid-off-white-all-hallows-eve'\n",
    "new_prod_id = 37"
   ]
  },
  {
   "cell_type": "code",
   "execution_count": 14,
   "metadata": {},
   "outputs": [],
   "source": [
    "recommended_products = make_recommendation(new_prod_id)"
   ]
  },
  {
   "cell_type": "markdown",
   "metadata": {},
   "source": [
    "### View list of recommended products"
   ]
  },
  {
   "cell_type": "code",
   "execution_count": 15,
   "metadata": {},
   "outputs": [
    {
     "data": {
      "text/plain": [
       "[{'id': 24,\n",
       "  'name': 'nike blazer mid off white',\n",
       "  'slug': 'nike-blazer-mid-off-white',\n",
       "  'category': 1,\n",
       "  'brand': 2,\n",
       "  'retail_price': '130.00',\n",
       "  'sale_price': '720.00',\n",
       "  'qty': 501,\n",
       "  'release_date': '2017-09-09',\n",
       "  'is_available': True},\n",
       " {'id': 38,\n",
       "  'name': 'nike blazer mid off white grim reaper',\n",
       "  'slug': 'nike-blazer-mid-off-white-grim-reaper',\n",
       "  'category': 1,\n",
       "  'brand': 2,\n",
       "  'retail_price': '130.00',\n",
       "  'sale_price': '908.00',\n",
       "  'qty': 1398,\n",
       "  'release_date': '2018-10-03',\n",
       "  'is_available': True},\n",
       " {'id': 39,\n",
       "  'name': 'nike blazer mid off white wolf grey',\n",
       "  'slug': 'nike-blazer-mid-off-white-wolf-grey',\n",
       "  'category': 1,\n",
       "  'brand': 2,\n",
       "  'retail_price': '130.00',\n",
       "  'sale_price': '1150.00',\n",
       "  'qty': 288,\n",
       "  'release_date': '2018-08-25',\n",
       "  'is_available': True}]"
      ]
     },
     "execution_count": 15,
     "metadata": {},
     "output_type": "execute_result"
    }
   ],
   "source": [
    "recommended_products"
   ]
  },
  {
   "cell_type": "code",
   "execution_count": null,
   "metadata": {},
   "outputs": [],
   "source": []
  }
 ],
 "metadata": {
  "kernelspec": {
   "display_name": "Python 3",
   "language": "python",
   "name": "python3"
  },
  "language_info": {
   "codemirror_mode": {
    "name": "ipython",
    "version": 3
   },
   "file_extension": ".py",
   "mimetype": "text/x-python",
   "name": "python",
   "nbconvert_exporter": "python",
   "pygments_lexer": "ipython3",
   "version": "3.8.3"
  }
 },
 "nbformat": 4,
 "nbformat_minor": 4
}
