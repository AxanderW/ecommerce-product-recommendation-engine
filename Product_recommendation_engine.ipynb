{
 "cells": [
  {
   "cell_type": "markdown",
   "metadata": {},
   "source": [
    "### This notebook will create a product recommendation engine"
   ]
  },
  {
   "cell_type": "markdown",
   "metadata": {},
   "source": [
    "#### Import dependencies "
   ]
  },
  {
   "cell_type": "code",
   "execution_count": 56,
   "metadata": {},
   "outputs": [],
   "source": [
    "import pandas as pd\n",
    "import numpy as np\n",
    "import requests\n",
    "import json\n",
    "from re import search\n",
    "from sklearn.metrics.pairwise import cosine_similarity\n",
    "from sklearn.feature_extraction.text import CountVectorizer"
   ]
  },
  {
   "cell_type": "markdown",
   "metadata": {},
   "source": [
    "### Get setup variables"
   ]
  },
  {
   "cell_type": "code",
   "execution_count": 57,
   "metadata": {},
   "outputs": [],
   "source": [
    "with open('config.json') as json_file:\n",
    "    data = json.load(json_file)\n",
    "    BASE_URL  = data['EC2_API_ENDPOINT']\n",
    "    MY_TOKEN = data['GUEST_TOKEN']"
   ]
  },
  {
   "cell_type": "markdown",
   "metadata": {},
   "source": [
    "#### Import dataset by making get request for REST API"
   ]
  },
  {
   "cell_type": "code",
   "execution_count": 113,
   "metadata": {},
   "outputs": [],
   "source": [
    "base_url = BASE_URL"
   ]
  },
  {
   "cell_type": "code",
   "execution_count": 59,
   "metadata": {},
   "outputs": [],
   "source": [
    "HEADER = {'Authorization':f'Token {MY_TOKEN}'}"
   ]
  },
  {
   "cell_type": "code",
   "execution_count": 64,
   "metadata": {},
   "outputs": [],
   "source": [
    "query_url = f\"{base_url}product/\"\n",
    "#print(query_url)"
   ]
  },
  {
   "cell_type": "code",
   "execution_count": 61,
   "metadata": {},
   "outputs": [],
   "source": [
    "db_prods = requests.get(url=query_url, headers=HEADER).json()"
   ]
  },
  {
   "cell_type": "markdown",
   "metadata": {},
   "source": [
    "#### Create dataframe"
   ]
  },
  {
   "cell_type": "code",
   "execution_count": 62,
   "metadata": {},
   "outputs": [],
   "source": [
    "df = pd.json_normalize(db_prods)"
   ]
  },
  {
   "cell_type": "markdown",
   "metadata": {},
   "source": [
    "#### View data"
   ]
  },
  {
   "cell_type": "code",
   "execution_count": 65,
   "metadata": {},
   "outputs": [
    {
     "data": {
      "text/html": [
       "<div>\n",
       "<style scoped>\n",
       "    .dataframe tbody tr th:only-of-type {\n",
       "        vertical-align: middle;\n",
       "    }\n",
       "\n",
       "    .dataframe tbody tr th {\n",
       "        vertical-align: top;\n",
       "    }\n",
       "\n",
       "    .dataframe thead th {\n",
       "        text-align: right;\n",
       "    }\n",
       "</style>\n",
       "<table border=\"1\" class=\"dataframe\">\n",
       "  <thead>\n",
       "    <tr style=\"text-align: right;\">\n",
       "      <th></th>\n",
       "      <th>id</th>\n",
       "      <th>name</th>\n",
       "      <th>slug</th>\n",
       "      <th>category</th>\n",
       "      <th>brand</th>\n",
       "      <th>retail_price</th>\n",
       "      <th>sale_price</th>\n",
       "      <th>qty</th>\n",
       "      <th>release_date</th>\n",
       "      <th>is_available</th>\n",
       "    </tr>\n",
       "  </thead>\n",
       "  <tbody>\n",
       "    <tr>\n",
       "      <th>0</th>\n",
       "      <td>1</td>\n",
       "      <td>adidas yeezy boost 350 low v2 beluga</td>\n",
       "      <td>adidas-yeezy-boost-350-low-v2-beluga</td>\n",
       "      <td>1</td>\n",
       "      <td>1</td>\n",
       "      <td>220.00</td>\n",
       "      <td>1097.00</td>\n",
       "      <td>498</td>\n",
       "      <td>2016-09-24</td>\n",
       "      <td>True</td>\n",
       "    </tr>\n",
       "    <tr>\n",
       "      <th>1</th>\n",
       "      <td>2</td>\n",
       "      <td>adidas yeezy boost 350 v2 core black copper</td>\n",
       "      <td>adidas-yeezy-boost-350-v2-core-black-copper</td>\n",
       "      <td>1</td>\n",
       "      <td>1</td>\n",
       "      <td>220.00</td>\n",
       "      <td>685.00</td>\n",
       "      <td>225</td>\n",
       "      <td>2016-11-23</td>\n",
       "      <td>True</td>\n",
       "    </tr>\n",
       "    <tr>\n",
       "      <th>2</th>\n",
       "      <td>3</td>\n",
       "      <td>adidas yeezy boost 350 v2 core black green</td>\n",
       "      <td>adidas-yeezy-boost-350-v2-core-black-green</td>\n",
       "      <td>1</td>\n",
       "      <td>1</td>\n",
       "      <td>220.00</td>\n",
       "      <td>690.00</td>\n",
       "      <td>196</td>\n",
       "      <td>2016-11-23</td>\n",
       "      <td>True</td>\n",
       "    </tr>\n",
       "    <tr>\n",
       "      <th>3</th>\n",
       "      <td>4</td>\n",
       "      <td>adidas yeezy boost 350 v2 core black red</td>\n",
       "      <td>adidas-yeezy-boost-350-v2-core-black-red</td>\n",
       "      <td>1</td>\n",
       "      <td>1</td>\n",
       "      <td>220.00</td>\n",
       "      <td>1075.00</td>\n",
       "      <td>302</td>\n",
       "      <td>2016-11-23</td>\n",
       "      <td>True</td>\n",
       "    </tr>\n",
       "    <tr>\n",
       "      <th>4</th>\n",
       "      <td>5</td>\n",
       "      <td>adidas yeezy boost 350 v2 core black red 2017</td>\n",
       "      <td>adidas-yeezy-boost-350-v2-core-black-red-2017</td>\n",
       "      <td>1</td>\n",
       "      <td>1</td>\n",
       "      <td>220.00</td>\n",
       "      <td>828.00</td>\n",
       "      <td>969</td>\n",
       "      <td>2017-02-11</td>\n",
       "      <td>True</td>\n",
       "    </tr>\n",
       "  </tbody>\n",
       "</table>\n",
       "</div>"
      ],
      "text/plain": [
       "   id                                           name  \\\n",
       "0   1           adidas yeezy boost 350 low v2 beluga   \n",
       "1   2    adidas yeezy boost 350 v2 core black copper   \n",
       "2   3     adidas yeezy boost 350 v2 core black green   \n",
       "3   4       adidas yeezy boost 350 v2 core black red   \n",
       "4   5  adidas yeezy boost 350 v2 core black red 2017   \n",
       "\n",
       "                                            slug  category  brand  \\\n",
       "0           adidas-yeezy-boost-350-low-v2-beluga         1      1   \n",
       "1    adidas-yeezy-boost-350-v2-core-black-copper         1      1   \n",
       "2     adidas-yeezy-boost-350-v2-core-black-green         1      1   \n",
       "3       adidas-yeezy-boost-350-v2-core-black-red         1      1   \n",
       "4  adidas-yeezy-boost-350-v2-core-black-red-2017         1      1   \n",
       "\n",
       "  retail_price sale_price  qty release_date  is_available  \n",
       "0       220.00    1097.00  498   2016-09-24          True  \n",
       "1       220.00     685.00  225   2016-11-23          True  \n",
       "2       220.00     690.00  196   2016-11-23          True  \n",
       "3       220.00    1075.00  302   2016-11-23          True  \n",
       "4       220.00     828.00  969   2017-02-11          True  "
      ]
     },
     "execution_count": 65,
     "metadata": {},
     "output_type": "execute_result"
    }
   ],
   "source": [
    "df.head()"
   ]
  },
  {
   "cell_type": "markdown",
   "metadata": {},
   "source": [
    "### Get count of products"
   ]
  },
  {
   "cell_type": "code",
   "execution_count": 66,
   "metadata": {},
   "outputs": [
    {
     "data": {
      "text/plain": [
       "50"
      ]
     },
     "execution_count": 66,
     "metadata": {},
     "output_type": "execute_result"
    }
   ],
   "source": [
    "df.shape[0]"
   ]
  },
  {
   "cell_type": "markdown",
   "metadata": {},
   "source": [
    "### Convert the text to a matrix of token counts"
   ]
  },
  {
   "cell_type": "code",
   "execution_count": 67,
   "metadata": {},
   "outputs": [],
   "source": [
    "cm = CountVectorizer().fit_transform(df['slug'])"
   ]
  },
  {
   "cell_type": "code",
   "execution_count": 70,
   "metadata": {},
   "outputs": [
    {
     "data": {
      "text/plain": [
       "<50x77 sparse matrix of type '<class 'numpy.int64'>'\n",
       "\twith 345 stored elements in Compressed Sparse Row format>"
      ]
     },
     "execution_count": 70,
     "metadata": {},
     "output_type": "execute_result"
    }
   ],
   "source": [
    "cm"
   ]
  },
  {
   "cell_type": "markdown",
   "metadata": {},
   "source": [
    "### Get the cosine similiarity matrix from the count matrix"
   ]
  },
  {
   "cell_type": "code",
   "execution_count": 68,
   "metadata": {},
   "outputs": [],
   "source": [
    "cs = cosine_similarity(cm)"
   ]
  },
  {
   "cell_type": "markdown",
   "metadata": {},
   "source": [
    "#### View cosine_similarity maxtrix"
   ]
  },
  {
   "cell_type": "code",
   "execution_count": 71,
   "metadata": {},
   "outputs": [
    {
     "data": {
      "text/plain": [
       "array([[1.        , 0.6681531 , 0.6681531 , ..., 0.        , 0.        ,\n",
       "        0.        ],\n",
       "       [0.6681531 , 1.        , 0.875     , ..., 0.        , 0.        ,\n",
       "        0.        ],\n",
       "       [0.6681531 , 0.875     , 1.        , ..., 0.        , 0.        ,\n",
       "        0.        ],\n",
       "       ...,\n",
       "       [0.        , 0.        , 0.        , ..., 1.        , 0.8819171 ,\n",
       "        0.80178373],\n",
       "       [0.        , 0.        , 0.        , ..., 0.8819171 , 1.        ,\n",
       "        0.82495791],\n",
       "       [0.        , 0.        , 0.        , ..., 0.80178373, 0.82495791,\n",
       "        1.        ]])"
      ]
     },
     "execution_count": 71,
     "metadata": {},
     "output_type": "execute_result"
    }
   ],
   "source": [
    "cs"
   ]
  },
  {
   "cell_type": "markdown",
   "metadata": {},
   "source": [
    "#### Get shape of the cosine similiarity matrix"
   ]
  },
  {
   "cell_type": "code",
   "execution_count": 72,
   "metadata": {},
   "outputs": [
    {
     "data": {
      "text/plain": [
       "(50, 50)"
      ]
     },
     "execution_count": 72,
     "metadata": {},
     "output_type": "execute_result"
    }
   ],
   "source": [
    "cs.shape"
   ]
  },
  {
   "cell_type": "markdown",
   "metadata": {},
   "source": [
    "#### Get a recently purchased or viewed produced"
   ]
  },
  {
   "cell_type": "code",
   "execution_count": 181,
   "metadata": {},
   "outputs": [],
   "source": [
    "product = 'nike-blazer-mid-off-white-all-hallows-eve'"
   ]
  },
  {
   "cell_type": "markdown",
   "metadata": {},
   "source": [
    "#### product id"
   ]
  },
  {
   "cell_type": "code",
   "execution_count": 182,
   "metadata": {},
   "outputs": [
    {
     "data": {
      "text/plain": [
       "37"
      ]
     },
     "execution_count": 182,
     "metadata": {},
     "output_type": "execute_result"
    }
   ],
   "source": [
    "product_id = df[df.slug == product]['id'].values[0]\n",
    "product_id"
   ]
  },
  {
   "cell_type": "markdown",
   "metadata": {},
   "source": [
    "### Create a list for similiarity score [(product_id, similarity score), (...)]\n",
    "#### Note: We subtract 1 b/c the product id is in position 1- prodct id"
   ]
  },
  {
   "cell_type": "code",
   "execution_count": 183,
   "metadata": {},
   "outputs": [
    {
     "data": {
      "text/plain": [
       "[(0, 0.0), (1, 0.0), (2, 0.0), (3, 0.0), (4, 0.0)]"
      ]
     },
     "execution_count": 183,
     "metadata": {},
     "output_type": "execute_result"
    }
   ],
   "source": [
    "scores = list(enumerate(cs[product_id-1]))\n",
    "scores[:5]"
   ]
  },
  {
   "cell_type": "markdown",
   "metadata": {},
   "source": [
    "#### Sort list"
   ]
  },
  {
   "cell_type": "code",
   "execution_count": 184,
   "metadata": {},
   "outputs": [
    {
     "data": {
      "text/plain": [
       "[(36, 0.9999999999999999),\n",
       " (23, 0.7905694150420948),\n",
       " (37, 0.6681531047810608),\n",
       " (38, 0.6681531047810608),\n",
       " (21, 0.47434164902525683)]"
      ]
     },
     "execution_count": 184,
     "metadata": {},
     "output_type": "execute_result"
    }
   ],
   "source": [
    "scored_scores = sorted(scores, key = lambda x:x[1], reverse=True)\n",
    "scored_scores[:5]"
   ]
  },
  {
   "cell_type": "markdown",
   "metadata": {},
   "source": [
    "#### Exclude first item in list, the most similiar product will be current product"
   ]
  },
  {
   "cell_type": "code",
   "execution_count": 185,
   "metadata": {},
   "outputs": [
    {
     "data": {
      "text/plain": [
       "[(23, 0.7905694150420948),\n",
       " (37, 0.6681531047810608),\n",
       " (38, 0.6681531047810608),\n",
       " (21, 0.47434164902525683),\n",
       " (22, 0.47434164902525683)]"
      ]
     },
     "execution_count": 185,
     "metadata": {},
     "output_type": "execute_result"
    }
   ],
   "source": [
    "sorted_scores = scored_scores[1:]\n",
    "sorted_scores[:5]"
   ]
  },
  {
   "cell_type": "markdown",
   "metadata": {},
   "source": [
    "### Recommend 3 products by running a get request for those product ids\n",
    "#### Note: we add 1 b/c the index is 1 value higher than the actual product id"
   ]
  },
  {
   "cell_type": "code",
   "execution_count": 144,
   "metadata": {},
   "outputs": [],
   "source": [
    "#base_url = query_url"
   ]
  },
  {
   "cell_type": "code",
   "execution_count": 186,
   "metadata": {},
   "outputs": [
    {
     "name": "stdout",
     "output_type": "stream",
     "text": [
      "nike blazer mid off white\n",
      "nike blazer mid off white grim reaper\n",
      "nike blazer mid off white wolf grey\n"
     ]
    }
   ],
   "source": [
    "for i in range(3):\n",
    "    recommend_prod_id = sorted_scores[i][0]\n",
    "    #print(recommend_prod_id)\n",
    "    recommend_prod_id +=1\n",
    "    \n",
    "    query_url = f'{base_url}product/{recommend_prod_id}' \n",
    "    #print(query_url)\n",
    "    #print(recommend_prod_id)\n",
    "    recommend_product = requests.get(url=query_url, headers=HEADER).json()\n",
    "    print(recommend_product['name'])\n",
    "    "
   ]
  },
  {
   "cell_type": "markdown",
   "metadata": {},
   "source": [
    "#### Save the Cosine Similiarity object as pickle file"
   ]
  },
  {
   "cell_type": "code",
   "execution_count": 146,
   "metadata": {},
   "outputs": [],
   "source": [
    "import pickle"
   ]
  },
  {
   "cell_type": "code",
   "execution_count": 153,
   "metadata": {},
   "outputs": [],
   "source": [
    "#pickle.dump(cm, open(\"countmatrix.pickle\", \"wb\"))"
   ]
  },
  {
   "cell_type": "code",
   "execution_count": 154,
   "metadata": {},
   "outputs": [],
   "source": [
    "pickle.dump(cs, open(\"simscores.pickle\", \"wb\"))"
   ]
  },
  {
   "cell_type": "markdown",
   "metadata": {},
   "source": [
    "### Test the pickle files by running "
   ]
  },
  {
   "cell_type": "code",
   "execution_count": 152,
   "metadata": {},
   "outputs": [
    {
     "data": {
      "text/plain": [
       "array([[1.        , 0.6681531 , 0.6681531 , ..., 0.        , 0.        ,\n",
       "        0.        ],\n",
       "       [0.6681531 , 1.        , 0.875     , ..., 0.        , 0.        ,\n",
       "        0.        ],\n",
       "       [0.6681531 , 0.875     , 1.        , ..., 0.        , 0.        ,\n",
       "        0.        ],\n",
       "       ...,\n",
       "       [0.        , 0.        , 0.        , ..., 1.        , 0.8819171 ,\n",
       "        0.80178373],\n",
       "       [0.        , 0.        , 0.        , ..., 0.8819171 , 1.        ,\n",
       "        0.82495791],\n",
       "       [0.        , 0.        , 0.        , ..., 0.80178373, 0.82495791,\n",
       "        1.        ]])"
      ]
     },
     "execution_count": 152,
     "metadata": {},
     "output_type": "execute_result"
    }
   ],
   "source": [
    "sim_scores_model = pickle.load(open('simscores.pickle', 'rb'))\n",
    "sim_scores_model"
   ]
  },
  {
   "cell_type": "code",
   "execution_count": 188,
   "metadata": {},
   "outputs": [],
   "source": [
    "def recommend_products(prod_id):\n",
    "    recommended_proucts = []\n",
    "    scores = list(enumerate(sim_scores_model[prod_id-1]))\n",
    "    scored_scores = sorted(scores, key = lambda x:x[1], reverse=True)\n",
    "    sorted_scores = scored_scores[1:]\n",
    "    \n",
    "    for i in range(3):\n",
    "        recommend_prod_id = sorted_scores[i][0]\n",
    "        recommend_prod_id +=1\n",
    "\n",
    "        query_url = f'{base_url}product/{recommend_prod_id}' \n",
    "        recommend_product = requests.get(url=query_url, headers=HEADER).json()\n",
    "        \n",
    "        recommended_proucts.append(recommend_product)\n",
    "    return recommended_proucts\n",
    "\n",
    "    "
   ]
  },
  {
   "cell_type": "code",
   "execution_count": 187,
   "metadata": {},
   "outputs": [],
   "source": [
    "new_product = 'nike-blazer-mid-off-white-all-hallows-eve'\n",
    "new_prod_id = 37"
   ]
  },
  {
   "cell_type": "code",
   "execution_count": 189,
   "metadata": {},
   "outputs": [
    {
     "data": {
      "text/plain": [
       "[{'id': 24,\n",
       "  'name': 'nike blazer mid off white',\n",
       "  'slug': 'nike-blazer-mid-off-white',\n",
       "  'category': 1,\n",
       "  'brand': 2,\n",
       "  'retail_price': '130.00',\n",
       "  'sale_price': '720.00',\n",
       "  'qty': 501,\n",
       "  'release_date': '2017-09-09',\n",
       "  'is_available': True},\n",
       " {'id': 38,\n",
       "  'name': 'nike blazer mid off white grim reaper',\n",
       "  'slug': 'nike-blazer-mid-off-white-grim-reaper',\n",
       "  'category': 1,\n",
       "  'brand': 2,\n",
       "  'retail_price': '130.00',\n",
       "  'sale_price': '908.00',\n",
       "  'qty': 1398,\n",
       "  'release_date': '2018-10-03',\n",
       "  'is_available': True},\n",
       " {'id': 39,\n",
       "  'name': 'nike blazer mid off white wolf grey',\n",
       "  'slug': 'nike-blazer-mid-off-white-wolf-grey',\n",
       "  'category': 1,\n",
       "  'brand': 2,\n",
       "  'retail_price': '130.00',\n",
       "  'sale_price': '1150.00',\n",
       "  'qty': 288,\n",
       "  'release_date': '2018-08-25',\n",
       "  'is_available': True}]"
      ]
     },
     "execution_count": 189,
     "metadata": {},
     "output_type": "execute_result"
    }
   ],
   "source": [
    "recommend_products(new_prod_id)"
   ]
  },
  {
   "cell_type": "code",
   "execution_count": null,
   "metadata": {},
   "outputs": [],
   "source": []
  }
 ],
 "metadata": {
  "kernelspec": {
   "display_name": "Python 3",
   "language": "python",
   "name": "python3"
  },
  "language_info": {
   "codemirror_mode": {
    "name": "ipython",
    "version": 3
   },
   "file_extension": ".py",
   "mimetype": "text/x-python",
   "name": "python",
   "nbconvert_exporter": "python",
   "pygments_lexer": "ipython3",
   "version": "3.8.3"
  }
 },
 "nbformat": 4,
 "nbformat_minor": 4
}
